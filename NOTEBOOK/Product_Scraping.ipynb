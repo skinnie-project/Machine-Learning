{
 "cells": [
  {
   "cell_type": "markdown",
   "metadata": {},
   "source": [
    "<a id='problem_statement'></a>\n",
    "## Problem Statements & Scope"
   ]
  },
  {
   "cell_type": "markdown",
   "metadata": {},
   "source": [
    " Problem Statement: Make dataset for ML project(s) end-to-end.\n",
    "\n",
    "This notebook only covers the scraping and transforming of the base dataset. Each project goal will be having other data preprocessing relevant to its problem statement. The dataset is only for educational purposes, so I anonymized the user name feature and dropped the user link feature in the User Dataset. However, there's no private information in the dataset as the user profile was public and can be seen on the original site. Despite the anonymization, there's still be a snippet of some of the true user names and links in this notebook. "
   ]
  },
  {
   "cell_type": "markdown",
   "metadata": {},
   "source": [
    "#### import required modules"
   ]
  },
  {
   "cell_type": "code",
   "execution_count": 3,
   "metadata": {},
   "outputs": [
    {
     "name": "stdout",
     "output_type": "stream",
     "text": [
      "Requirement already satisfied: webdriver-manager in c:\\users\\user\\appdata\\local\\programs\\python\\python310\\lib\\site-packages (3.8.6)\n",
      "Requirement already satisfied: requests in c:\\users\\user\\appdata\\local\\programs\\python\\python310\\lib\\site-packages (from webdriver-manager) (2.27.1)\n",
      "Requirement already satisfied: tqdm in c:\\users\\user\\appdata\\local\\programs\\python\\python310\\lib\\site-packages (from webdriver-manager) (4.64.0)\n",
      "Requirement already satisfied: python-dotenv in c:\\users\\user\\appdata\\local\\programs\\python\\python310\\lib\\site-packages (from webdriver-manager) (1.0.0)\n",
      "Requirement already satisfied: packaging in c:\\users\\user\\appdata\\local\\programs\\python\\python310\\lib\\site-packages (from webdriver-manager) (21.3)\n",
      "Requirement already satisfied: pyparsing!=3.0.5,>=2.0.2 in c:\\users\\user\\appdata\\local\\programs\\python\\python310\\lib\\site-packages (from packaging->webdriver-manager) (3.0.8)\n",
      "Requirement already satisfied: charset-normalizer~=2.0.0 in c:\\users\\user\\appdata\\local\\programs\\python\\python310\\lib\\site-packages (from requests->webdriver-manager) (2.0.12)\n",
      "Requirement already satisfied: idna<4,>=2.5 in c:\\users\\user\\appdata\\local\\programs\\python\\python310\\lib\\site-packages (from requests->webdriver-manager) (3.3)\n",
      "Requirement already satisfied: urllib3<1.27,>=1.21.1 in c:\\users\\user\\appdata\\local\\programs\\python\\python310\\lib\\site-packages (from requests->webdriver-manager) (1.26.9)\n",
      "Requirement already satisfied: certifi>=2017.4.17 in c:\\users\\user\\appdata\\local\\programs\\python\\python310\\lib\\site-packages (from requests->webdriver-manager) (2022.5.18.1)\n",
      "Requirement already satisfied: colorama in c:\\users\\user\\appdata\\local\\programs\\python\\python310\\lib\\site-packages (from tqdm->webdriver-manager) (0.4.4)\n",
      "Note: you may need to restart the kernel to use updated packages.\n"
     ]
    },
    {
     "name": "stderr",
     "output_type": "stream",
     "text": [
      "WARNING: You are using pip version 21.2.4; however, version 23.1.2 is available.\n",
      "You should consider upgrading via the 'C:\\Users\\User\\AppData\\Local\\Programs\\Python\\Python310\\python.exe -m pip install --upgrade pip' command.\n"
     ]
    }
   ],
   "source": [
    "pip install webdriver-manager"
   ]
  },
  {
   "cell_type": "code",
   "execution_count": 1,
   "metadata": {},
   "outputs": [
    {
     "name": "stderr",
     "output_type": "stream",
     "text": [
      "C:\\Users\\User\\AppData\\Local\\Temp\\ipykernel_15992\\294728646.py:29: DeprecationWarning: executable_path has been deprecated, please pass in a Service object\n",
      "  driver = webdriver.Chrome(ChromeDriverManager().install())\n"
     ]
    }
   ],
   "source": [
    "#scraping\n",
    "from urllib.request import urlopen as ureq\n",
    "from selenium import webdriver\n",
    "from selenium.webdriver.common.keys import Keys\n",
    "from selenium.webdriver.common.action_chains import ActionChains\n",
    "from selenium.webdriver.common.by import By\n",
    "from selenium.webdriver.support.ui import WebDriverWait\n",
    "from selenium.webdriver.support import expected_conditions as EC\n",
    "from webdriver_manager.chrome import ChromeDriverManager\n",
    "from dateutil import parser\n",
    "import datetime\n",
    "import time\n",
    "\n",
    "# timeout issues\n",
    "from selenium.webdriver.chrome.options import Options\n",
    "chrome_options = Options()\n",
    "chrome_options.page_load_strategy = 'normal'\n",
    "chrome_options.add_argument('--enable-automation')\n",
    "chrome_options.add_argument('disable-infobars')\n",
    "chrome_options.add_argument('--disable-gpu')\n",
    "chrome_options.add_argument('--ignore-certificate-errors')\n",
    "chrome_options.add_argument('--allow-insecure-localhost')\n",
    "chrome_options.add_argument('--allow-running-insecure-content')\n",
    "chrome_options.add_argument('--disable-notifications')\n",
    "chrome_options.add_argument('--disable-dev-shm-usage')\n",
    "chrome_options.add_argument('--disable-browser-side-navigation')\n",
    "chrome_options.add_argument('--headless')\n",
    "\n",
    "driver = webdriver.Chrome(ChromeDriverManager().install())\n",
    "\n",
    "#dataframes\n",
    "import pandas as pd\n",
    "import numpy as np\n",
    "import re\n",
    "\n",
    "#anonymize usernames\n",
    "import csv\n",
    "from faker import Factory\n",
    "from collections import defaultdict"
   ]
  },
  {
   "cell_type": "code",
   "execution_count": 2,
   "metadata": {},
   "outputs": [],
   "source": [
    "pd.set_option('display.max_columns', None)"
   ]
  },
  {
   "cell_type": "markdown",
   "metadata": {},
   "source": [
    "<a id='scraping_brand'></a>\n",
    "### Scraping the local brands"
   ]
  },
  {
   "cell_type": "code",
   "execution_count": 3,
   "metadata": {},
   "outputs": [
    {
     "name": "stderr",
     "output_type": "stream",
     "text": [
      "C:\\Users\\User\\AppData\\Local\\Temp\\ipykernel_15992\\540071313.py:2: DeprecationWarning: executable_path has been deprecated, please pass in a Service object\n",
      "  driver = webdriver.Chrome(PATH)\n"
     ]
    }
   ],
   "source": [
    "PATH = r\"D:\\Downloads\\DataScrape\\chromedriver.exe\"\n",
    "driver = webdriver.Chrome(PATH)\n",
    "\n",
    "brand_url ='https://reviews.femaledaily.com/brands'\n",
    "#opening up connection, grabbing the page with selenium webdriver\n",
    "driver.get(brand_url)"
   ]
  },
  {
   "cell_type": "code",
   "execution_count": 4,
   "metadata": {},
   "outputs": [],
   "source": [
    "#Indonesian brands\n",
    "brand_idn = WebDriverWait(driver, 10).until(EC.element_to_be_clickable((By.XPATH, \"//*[@id='id_tab_Indonesia']\")))\n",
    "driver.execute_script(\"arguments[0].click();\", brand_idn)\n",
    "\n",
    "#brands alphabet\n",
    "brand_list = brand_idn.find_element(By.XPATH, \"//div[@class='jsx-2959408550 brand-alphabet-list']\")\n",
    "brand_char = brand_list.find_elements(By.TAG_NAME, \"a\")"
   ]
  },
  {
   "cell_type": "code",
   "execution_count": 5,
   "metadata": {},
   "outputs": [],
   "source": [
    "list_brand_lokal = []\n",
    "sum_prod_lokal =[]\n",
    "list_link = []\n",
    "\n",
    "# list of local beauty brands\n",
    "for char in brand_char:\n",
    "\tdriver.execute_script(\"arguments[0].click();\", char)\n",
    "\tbrand_list_prod = char.find_element(By.XPATH, \"//div[@class='jsx-2959408550 brand-list-prod']\")\n",
    "\tbrand_prod = brand_list_prod.find_elements(By.TAG_NAME, 'a')\n",
    "\tfor name in brand_prod:\n",
    "\t\tbrand_name = name.find_elements(By.TAG_NAME, 'h2')\n",
    "\t\tsum_prod = name.find_elements(By.TAG_NAME, 'p')\n",
    "\t\tlist_link.append(name.get_attribute('href'))\n",
    "\t\tfor only_name in brand_name:\n",
    "\t\t\tlist_brand_lokal.append(only_name.text)\n",
    "\t\tfor only_sum in sum_prod:\n",
    "\t\t\tsum_prod_lokal.append(only_sum.text)"
   ]
  },
  {
   "cell_type": "code",
   "execution_count": 6,
   "metadata": {},
   "outputs": [
    {
     "data": {
      "text/plain": [
       "1272"
      ]
     },
     "execution_count": 6,
     "metadata": {},
     "output_type": "execute_result"
    }
   ],
   "source": [
    "len(list_brand_lokal)"
   ]
  },
  {
   "cell_type": "code",
   "execution_count": 7,
   "metadata": {},
   "outputs": [],
   "source": [
    "zip_iterator = zip(list_brand_lokal, list_link)\n",
    "brand_dict = dict(zip_iterator)\n",
    "dict_skincare_lokal = {}\n",
    "link_product = []"
   ]
  },
  {
   "cell_type": "code",
   "execution_count": null,
   "metadata": {},
   "outputs": [
    {
     "name": "stdout",
     "output_type": "stream",
     "text": [
      "merk AIMR tidak punya produk skincare\n",
      "merk ARRA Beauty tidak punya produk skincare\n",
      "merk AZZURA tidak punya produk skincare\n",
      "merk Absolute tidak punya produk skincare\n",
      "merk Aelin Skincare tidak punya produk skincare\n",
      "merk Aeluna tidak punya produk skincare\n",
      "merk Aeris Beaute tidak punya produk skincare\n",
      "merk Aeuko tidak punya produk skincare\n",
      "merk Akiko Beauty tidak punya produk skincare\n",
      "merk Alatté tidak punya produk skincare\n",
      "merk Alchemist Fragrance tidak punya produk skincare\n",
      "merk Aldo Akira tidak punya produk skincare\n",
      "merk Alien Objects tidak punya produk skincare\n",
      "merk All Is Well tidak punya produk skincare\n",
      "merk Allglows tidak punya produk skincare\n",
      "merk Alraiya tidak punya produk skincare\n",
      "merk Alurin Beauty tidak punya produk skincare\n",
      "merk Amara tidak punya produk skincare\n",
      "merk Amara Kids Cosmetics tidak punya produk skincare\n",
      "merk Amora tidak punya produk skincare\n",
      "merk Anava'S Secret tidak punya produk skincare\n",
      "merk Andalan Feminine Care tidak punya produk skincare\n",
      "merk Anggie Rassly Beauty tidak punya produk skincare\n",
      "merk Annata Parfumah tidak punya produk skincare\n",
      "merk Anoraskin tidak punya produk skincare\n",
      "merk Artemy Beauty tidak punya produk skincare\n",
      "merk Artisan Professionel tidak punya produk skincare\n",
      "merk Aurelloly tidak punya produk skincare\n",
      "merk Avicenna tidak punya produk skincare\n",
      "merk Ayudya tidak punya produk skincare\n",
      "merk B.O.S tidak punya produk skincare\n",
      "merk BFREE tidak punya produk skincare\n",
      "merk BOOMEE tidak punya produk skincare\n",
      "merk BQ4 tidak punya produk skincare\n",
      "merk Baby Arauna tidak punya produk skincare\n",
      "merk Baeroll tidak punya produk skincare\n",
      "merk Bali Blossom tidak punya produk skincare\n",
      "merk Bali Boat tidak punya produk skincare\n",
      "merk Bali Home Spa tidak punya produk skincare\n",
      "merk Bali Surfer'S Perfume tidak punya produk skincare\n",
      "merk Bali Tangi tidak punya produk skincare\n",
      "merk Batrisyia Herbal tidak punya produk skincare\n",
      "merk Be Real tidak punya produk skincare\n",
      "merk Beauphoria tidak punya produk skincare\n",
      "merk Beautistyle tidak punya produk skincare\n",
      "merk Beautitarian tidak punya produk skincare\n",
      "merk Beauty Barn tidak punya produk skincare\n",
      "merk Beauty Box tidak punya produk skincare\n",
      "merk Beautylist tidak punya produk skincare\n",
      "merk Beleaf tidak punya produk skincare\n",
      "merk Beluna tidak punya produk skincare\n",
      "merk Bev tidak punya produk skincare\n",
      "merk Beverly'S Secret tidak punya produk skincare\n",
      "merk Bilqis Eyelashes tidak punya produk skincare\n",
      "merk Bio Hair 123 tidak punya produk skincare\n",
      "merk Biodef tidak punya produk skincare\n",
      "merk Biotonic tidak punya produk skincare\n",
      "merk Blink Charm tidak punya produk skincare\n",
      "merk Blishful tidak punya produk skincare\n",
      "merk Blue Stone Botanicals tidak punya produk skincare\n",
      "merk Blunies tidak punya produk skincare\n",
      "merk Bonavie tidak punya produk skincare\n",
      "merk Bonvie tidak punya produk skincare\n",
      "merk Botanical Essentials tidak punya produk skincare\n",
      "merk Botanina tidak punya produk skincare\n",
      "merk Bright Clean tidak punya produk skincare\n",
      "merk Brighty tidak punya produk skincare\n",
      "merk Britney tidak punya produk skincare\n"
     ]
    }
   ],
   "source": [
    "#get list of local skincare brand & products href\n",
    "for key, value in brand_dict.items():\n",
    "\tdriver.get(value)\n",
    "\ttry:\n",
    "\t\tskincare_filter = driver.find_element(By.XPATH, \"//*[contains(text(), 'SkinCare')]\")\n",
    "\t\tdriver.execute_script(\"arguments[0].click();\", skincare_filter)\n",
    "\t\telement_exist = WebDriverWait(driver, 5).until(EC.presence_of_all_elements_located((By.XPATH, \"//div[@class='jsx-4252524774 brand-product']\")))\n",
    "\t\tif element_exist:\n",
    "\t\t\tdict_skincare_lokal[key] = value\n",
    "\t\t\tbrand_product = WebDriverWait(driver, 5).until(EC.presence_of_all_elements_located((By.XPATH, \"//a[@class='jsx-2059197805']\")))\n",
    "\t\t\tfor product in brand_product:\n",
    "\t\t\t\tlink_product.append(product.get_attribute('href'))\n",
    "\texcept:\n",
    "\t\tprint(\"merk \" + key + \" tidak punya produk skincare\")"
   ]
  },
  {
   "cell_type": "code",
   "execution_count": null,
   "metadata": {},
   "outputs": [],
   "source": [
    "print(len(dict_skincare_lokal))\n",
    "print(len(link_product))"
   ]
  },
  {
   "cell_type": "markdown",
   "metadata": {},
   "source": [
    "<a id='scraping_product'></a>\n",
    "### Scraping the local skincare products"
   ]
  },
  {
   "cell_type": "code",
   "execution_count": null,
   "metadata": {},
   "outputs": [],
   "source": [
    "subcategory = []\n",
    "product_brand = []\n",
    "product_name = []\n",
    "product_variant = []\n",
    "product_price =[]\n",
    "product_rate=[]\n",
    "product_desc = []\n",
    "product_link = []\n",
    "product_image = []\n",
    "\n",
    "#get information for each product\n",
    "for link in link_product:\n",
    "        \n",
    "\tdriver.get(link)\n",
    "\tdriver.implicitly_wait(3) #wait 3 seconds\n",
    "\n",
    "\ttry:\n",
    "\t\tbreadcrumb_sub = driver.find_elements(By.XPATH, \"//a[@class='jsx-1858436673 breadcrumb-section-text']\")\n",
    "\t\tget_product_brand = driver.find_element(By.XPATH, \"//h2[@class='jsx-2016320139 jsx-2462230538 product-brand']\")\n",
    "\t\tget_product_name = driver.find_element(By.XPATH, \"//h1[@class='jsx-2016320139 jsx-2462230538 product-name']\")\n",
    "        # jsx-905139883 jsx-1996910461 product-name\n",
    "\t\tget_desc_toggle = driver.find_element(By.XPATH, '//span[@class=\"jsx-2016320139 jsx-2462230538 toggle-desc expanded\"]')\n",
    "\t\tdriver.execute_script(\"arguments[0].click();\", get_desc_toggle)\n",
    "\t\tget_product_desc = driver.find_element(By.XPATH, \"//p[@class='jsx-2016320139 jsx-2462230538 product-desc']\")\n",
    "\t\tget_product_rate = driver.find_element(By.XPATH, \"//p[@class='jsx-2016320139 jsx-2462230538 ']\")\n",
    "\t\tget_product_image = driver.find_element(By.XPATH, \"//div[@class='jsx-2016320139 jsx-2462230538 image-wrapper']//img\")\n",
    "# \t\tget_product_image = get_product_image.getAttribute(\"get_product_image\")\n",
    "   \n",
    "\t\t#get product price\n",
    "\t\ttry:\n",
    "\t\t\tget_product_price = WebDriverWait(driver, 3).until(EC.presence_of_all_elements_located((By.XPATH, \"//p[@class='jsx-2016320139 jsx-2462230538 product-price']\")))\n",
    "\t\t\tif get_product_price:\n",
    "\t\t\t\tproduct_price.append(get_product_price[0].text)\n",
    "\t\t\telse:\n",
    "\t\t\t\tproduct_price.append('')\n",
    "\t\texcept:\n",
    "\t\t\tproduct_price.append('beauty studio')\n",
    "                \n",
    "\t\t#get product variant\n",
    "\t\tget_product_variant = WebDriverWait(driver, 3).until(EC.presence_of_all_elements_located((By.XPATH, '//h3[@class=\"jsx-2016320139 jsx-2462230538 product-shade\"]')))\n",
    "\t\tif get_product_variant:\n",
    "\t\t\tproduct_variant.append(get_product_variant[0].text)\n",
    "\t\telse:\n",
    "\t\t\tproduct_variant.append('')\n",
    "\t        \n",
    "\t\t#append the information to lists\n",
    "\t\tsubcategory.append(breadcrumb_sub[1].text)\n",
    "\t\tproduct_brand.append(get_product_brand.text)\n",
    "\t\tproduct_name.append(get_product_name.text)\n",
    "\t\tproduct_desc.append(get_product_desc.text)\n",
    "\t\tproduct_rate.append(get_product_rate.text)\n",
    "\t\tproduct_link.append(link)\n",
    "\t\tproduct_image.append(get_product_image.get_attribute('src'))\n",
    "        \n",
    "\texcept:\n",
    "\t\tprint('something not found')"
   ]
  },
  {
   "cell_type": "code",
   "execution_count": null,
   "metadata": {},
   "outputs": [],
   "source": [
    "print(len(subcategory))\n",
    "print(len(product_brand))\n",
    "print(len(product_name))\n",
    "print(len(product_rate))\n",
    "print(len(product_price))\n",
    "print(len(product_desc))\n",
    "print(len(product_variant))\n",
    "print(len(product_image))"
   ]
  },
  {
   "cell_type": "code",
   "execution_count": null,
   "metadata": {},
   "outputs": [],
   "source": [
    "# #anonymize usernames\n",
    "import csv\n",
    "from faker import Factory\n",
    "from collections import defaultdict"
   ]
  },
  {
   "cell_type": "code",
   "execution_count": null,
   "metadata": {},
   "outputs": [],
   "source": [
    "product_df = pd.DataFrame(list(zip(subcategory, product_brand, product_name, product_rate, product_variant, product_price, product_desc, product_link, product_image)), \n",
    "                  columns= ['subcategory', 'brand', 'product_name','rate', 'variant', 'price', 'description', 'link', 'image'])"
   ]
  },
  {
   "cell_type": "code",
   "execution_count": null,
   "metadata": {},
   "outputs": [],
   "source": [
    "product_df.to_csv(\"skincare_product.csv\", index=False, header=True)"
   ]
  },
  {
   "cell_type": "markdown",
   "metadata": {},
   "source": [
    "##### [back to Table of Contents](#table_content)"
   ]
  }
 ],
 "metadata": {
  "kernelspec": {
   "display_name": "Python 3 (ipykernel)",
   "language": "python",
   "name": "python3"
  },
  "language_info": {
   "codemirror_mode": {
    "name": "ipython",
    "version": 3
   },
   "file_extension": ".py",
   "mimetype": "text/x-python",
   "name": "python",
   "nbconvert_exporter": "python",
   "pygments_lexer": "ipython3",
   "version": "3.10.2"
  }
 },
 "nbformat": 4,
 "nbformat_minor": 2
}
